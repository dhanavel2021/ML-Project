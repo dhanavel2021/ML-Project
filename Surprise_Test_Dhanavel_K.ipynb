{
  "nbformat": 4,
  "nbformat_minor": 0,
  "metadata": {
    "colab": {
      "name": "Surprise Test Dhanavel K.ipynb",
      "provenance": [],
      "collapsed_sections": [],
      "authorship_tag": "ABX9TyPUVQnCHw18KQU+WlxaT8nC",
      "include_colab_link": true
    },
    "kernelspec": {
      "name": "python3",
      "display_name": "Python 3"
    },
    "language_info": {
      "name": "python"
    }
  },
  "cells": [
    {
      "cell_type": "markdown",
      "metadata": {
        "id": "view-in-github",
        "colab_type": "text"
      },
      "source": [
        "<a href=\"https://colab.research.google.com/github/dhanavel2021/ML-Project/blob/main/Surprise_Test_Dhanavel_K.ipynb\" target=\"_parent\"><img src=\"https://colab.research.google.com/assets/colab-badge.svg\" alt=\"Open In Colab\"/></a>"
      ]
    },
    {
      "cell_type": "code",
      "execution_count": null,
      "metadata": {
        "colab": {
          "base_uri": "https://localhost:8080/"
        },
        "id": "NJ1WRpDSPfie",
        "outputId": "99b1eeab-7170-4de0-e0cf-7138b7c86663"
      },
      "outputs": [
        {
          "output_type": "stream",
          "name": "stdout",
          "text": [
            "Mounted at /content/drive\n"
          ]
        }
      ],
      "source": [
        "from google.colab import drive\n",
        "drive.mount('/content/drive')"
      ]
    },
    {
      "cell_type": "code",
      "source": [
        "import pandas as pd\n",
        "data=pd.read_csv('/content/drive/MyDrive/0.MKCE/Datasets/Raisin_Dataset.csv')"
      ],
      "metadata": {
        "id": "O-UHymAiPz4u"
      },
      "execution_count": null,
      "outputs": []
    },
    {
      "cell_type": "code",
      "source": [
        "data"
      ],
      "metadata": {
        "colab": {
          "base_uri": "https://localhost:8080/",
          "height": 424
        },
        "id": "bHB9NpS6QRyJ",
        "outputId": "d29ec2e6-4c07-4076-d82d-2d5c9b0b470a"
      },
      "execution_count": null,
      "outputs": [
        {
          "output_type": "execute_result",
          "data": {
            "text/plain": [
              "      Area  MajorAxisLength  MinorAxisLength  Eccentricity  ConvexArea  \\\n",
              "0    87524       442.246011       253.291155      0.819738       90546   \n",
              "1    75166       406.690687       243.032436      0.801805       78789   \n",
              "2    90856       442.267048       266.328318      0.798354       93717   \n",
              "3    45928       286.540559       208.760042      0.684989       47336   \n",
              "4    79408       352.190770       290.827533      0.564011       81463   \n",
              "..     ...              ...              ...           ...         ...   \n",
              "895  83248       430.077308       247.838695      0.817263       85839   \n",
              "896  87350       440.735698       259.293149      0.808629       90899   \n",
              "897  99657       431.706981       298.837323      0.721684      106264   \n",
              "898  93523       476.344094       254.176054      0.845739       97653   \n",
              "899  85609       512.081774       215.271976      0.907345       89197   \n",
              "\n",
              "       Extent  Perimeter  Class  \n",
              "0    0.758651   1184.040      1  \n",
              "1    0.684130   1121.786      1  \n",
              "2    0.637613   1208.575      1  \n",
              "3    0.699599    844.162      1  \n",
              "4    0.792772   1073.251      1  \n",
              "..        ...        ...    ...  \n",
              "895  0.668793   1129.072      0  \n",
              "896  0.636476   1214.252      0  \n",
              "897  0.741099   1292.828      0  \n",
              "898  0.658798   1258.548      0  \n",
              "899  0.632020   1272.862      0  \n",
              "\n",
              "[900 rows x 8 columns]"
            ],
            "text/html": [
              "\n",
              "  <div id=\"df-be19795d-9220-4962-9b09-4963019bd3f5\">\n",
              "    <div class=\"colab-df-container\">\n",
              "      <div>\n",
              "<style scoped>\n",
              "    .dataframe tbody tr th:only-of-type {\n",
              "        vertical-align: middle;\n",
              "    }\n",
              "\n",
              "    .dataframe tbody tr th {\n",
              "        vertical-align: top;\n",
              "    }\n",
              "\n",
              "    .dataframe thead th {\n",
              "        text-align: right;\n",
              "    }\n",
              "</style>\n",
              "<table border=\"1\" class=\"dataframe\">\n",
              "  <thead>\n",
              "    <tr style=\"text-align: right;\">\n",
              "      <th></th>\n",
              "      <th>Area</th>\n",
              "      <th>MajorAxisLength</th>\n",
              "      <th>MinorAxisLength</th>\n",
              "      <th>Eccentricity</th>\n",
              "      <th>ConvexArea</th>\n",
              "      <th>Extent</th>\n",
              "      <th>Perimeter</th>\n",
              "      <th>Class</th>\n",
              "    </tr>\n",
              "  </thead>\n",
              "  <tbody>\n",
              "    <tr>\n",
              "      <th>0</th>\n",
              "      <td>87524</td>\n",
              "      <td>442.246011</td>\n",
              "      <td>253.291155</td>\n",
              "      <td>0.819738</td>\n",
              "      <td>90546</td>\n",
              "      <td>0.758651</td>\n",
              "      <td>1184.040</td>\n",
              "      <td>1</td>\n",
              "    </tr>\n",
              "    <tr>\n",
              "      <th>1</th>\n",
              "      <td>75166</td>\n",
              "      <td>406.690687</td>\n",
              "      <td>243.032436</td>\n",
              "      <td>0.801805</td>\n",
              "      <td>78789</td>\n",
              "      <td>0.684130</td>\n",
              "      <td>1121.786</td>\n",
              "      <td>1</td>\n",
              "    </tr>\n",
              "    <tr>\n",
              "      <th>2</th>\n",
              "      <td>90856</td>\n",
              "      <td>442.267048</td>\n",
              "      <td>266.328318</td>\n",
              "      <td>0.798354</td>\n",
              "      <td>93717</td>\n",
              "      <td>0.637613</td>\n",
              "      <td>1208.575</td>\n",
              "      <td>1</td>\n",
              "    </tr>\n",
              "    <tr>\n",
              "      <th>3</th>\n",
              "      <td>45928</td>\n",
              "      <td>286.540559</td>\n",
              "      <td>208.760042</td>\n",
              "      <td>0.684989</td>\n",
              "      <td>47336</td>\n",
              "      <td>0.699599</td>\n",
              "      <td>844.162</td>\n",
              "      <td>1</td>\n",
              "    </tr>\n",
              "    <tr>\n",
              "      <th>4</th>\n",
              "      <td>79408</td>\n",
              "      <td>352.190770</td>\n",
              "      <td>290.827533</td>\n",
              "      <td>0.564011</td>\n",
              "      <td>81463</td>\n",
              "      <td>0.792772</td>\n",
              "      <td>1073.251</td>\n",
              "      <td>1</td>\n",
              "    </tr>\n",
              "    <tr>\n",
              "      <th>...</th>\n",
              "      <td>...</td>\n",
              "      <td>...</td>\n",
              "      <td>...</td>\n",
              "      <td>...</td>\n",
              "      <td>...</td>\n",
              "      <td>...</td>\n",
              "      <td>...</td>\n",
              "      <td>...</td>\n",
              "    </tr>\n",
              "    <tr>\n",
              "      <th>895</th>\n",
              "      <td>83248</td>\n",
              "      <td>430.077308</td>\n",
              "      <td>247.838695</td>\n",
              "      <td>0.817263</td>\n",
              "      <td>85839</td>\n",
              "      <td>0.668793</td>\n",
              "      <td>1129.072</td>\n",
              "      <td>0</td>\n",
              "    </tr>\n",
              "    <tr>\n",
              "      <th>896</th>\n",
              "      <td>87350</td>\n",
              "      <td>440.735698</td>\n",
              "      <td>259.293149</td>\n",
              "      <td>0.808629</td>\n",
              "      <td>90899</td>\n",
              "      <td>0.636476</td>\n",
              "      <td>1214.252</td>\n",
              "      <td>0</td>\n",
              "    </tr>\n",
              "    <tr>\n",
              "      <th>897</th>\n",
              "      <td>99657</td>\n",
              "      <td>431.706981</td>\n",
              "      <td>298.837323</td>\n",
              "      <td>0.721684</td>\n",
              "      <td>106264</td>\n",
              "      <td>0.741099</td>\n",
              "      <td>1292.828</td>\n",
              "      <td>0</td>\n",
              "    </tr>\n",
              "    <tr>\n",
              "      <th>898</th>\n",
              "      <td>93523</td>\n",
              "      <td>476.344094</td>\n",
              "      <td>254.176054</td>\n",
              "      <td>0.845739</td>\n",
              "      <td>97653</td>\n",
              "      <td>0.658798</td>\n",
              "      <td>1258.548</td>\n",
              "      <td>0</td>\n",
              "    </tr>\n",
              "    <tr>\n",
              "      <th>899</th>\n",
              "      <td>85609</td>\n",
              "      <td>512.081774</td>\n",
              "      <td>215.271976</td>\n",
              "      <td>0.907345</td>\n",
              "      <td>89197</td>\n",
              "      <td>0.632020</td>\n",
              "      <td>1272.862</td>\n",
              "      <td>0</td>\n",
              "    </tr>\n",
              "  </tbody>\n",
              "</table>\n",
              "<p>900 rows × 8 columns</p>\n",
              "</div>\n",
              "      <button class=\"colab-df-convert\" onclick=\"convertToInteractive('df-be19795d-9220-4962-9b09-4963019bd3f5')\"\n",
              "              title=\"Convert this dataframe to an interactive table.\"\n",
              "              style=\"display:none;\">\n",
              "        \n",
              "  <svg xmlns=\"http://www.w3.org/2000/svg\" height=\"24px\"viewBox=\"0 0 24 24\"\n",
              "       width=\"24px\">\n",
              "    <path d=\"M0 0h24v24H0V0z\" fill=\"none\"/>\n",
              "    <path d=\"M18.56 5.44l.94 2.06.94-2.06 2.06-.94-2.06-.94-.94-2.06-.94 2.06-2.06.94zm-11 1L8.5 8.5l.94-2.06 2.06-.94-2.06-.94L8.5 2.5l-.94 2.06-2.06.94zm10 10l.94 2.06.94-2.06 2.06-.94-2.06-.94-.94-2.06-.94 2.06-2.06.94z\"/><path d=\"M17.41 7.96l-1.37-1.37c-.4-.4-.92-.59-1.43-.59-.52 0-1.04.2-1.43.59L10.3 9.45l-7.72 7.72c-.78.78-.78 2.05 0 2.83L4 21.41c.39.39.9.59 1.41.59.51 0 1.02-.2 1.41-.59l7.78-7.78 2.81-2.81c.8-.78.8-2.07 0-2.86zM5.41 20L4 18.59l7.72-7.72 1.47 1.35L5.41 20z\"/>\n",
              "  </svg>\n",
              "      </button>\n",
              "      \n",
              "  <style>\n",
              "    .colab-df-container {\n",
              "      display:flex;\n",
              "      flex-wrap:wrap;\n",
              "      gap: 12px;\n",
              "    }\n",
              "\n",
              "    .colab-df-convert {\n",
              "      background-color: #E8F0FE;\n",
              "      border: none;\n",
              "      border-radius: 50%;\n",
              "      cursor: pointer;\n",
              "      display: none;\n",
              "      fill: #1967D2;\n",
              "      height: 32px;\n",
              "      padding: 0 0 0 0;\n",
              "      width: 32px;\n",
              "    }\n",
              "\n",
              "    .colab-df-convert:hover {\n",
              "      background-color: #E2EBFA;\n",
              "      box-shadow: 0px 1px 2px rgba(60, 64, 67, 0.3), 0px 1px 3px 1px rgba(60, 64, 67, 0.15);\n",
              "      fill: #174EA6;\n",
              "    }\n",
              "\n",
              "    [theme=dark] .colab-df-convert {\n",
              "      background-color: #3B4455;\n",
              "      fill: #D2E3FC;\n",
              "    }\n",
              "\n",
              "    [theme=dark] .colab-df-convert:hover {\n",
              "      background-color: #434B5C;\n",
              "      box-shadow: 0px 1px 3px 1px rgba(0, 0, 0, 0.15);\n",
              "      filter: drop-shadow(0px 1px 2px rgba(0, 0, 0, 0.3));\n",
              "      fill: #FFFFFF;\n",
              "    }\n",
              "  </style>\n",
              "\n",
              "      <script>\n",
              "        const buttonEl =\n",
              "          document.querySelector('#df-be19795d-9220-4962-9b09-4963019bd3f5 button.colab-df-convert');\n",
              "        buttonEl.style.display =\n",
              "          google.colab.kernel.accessAllowed ? 'block' : 'none';\n",
              "\n",
              "        async function convertToInteractive(key) {\n",
              "          const element = document.querySelector('#df-be19795d-9220-4962-9b09-4963019bd3f5');\n",
              "          const dataTable =\n",
              "            await google.colab.kernel.invokeFunction('convertToInteractive',\n",
              "                                                     [key], {});\n",
              "          if (!dataTable) return;\n",
              "\n",
              "          const docLinkHtml = 'Like what you see? Visit the ' +\n",
              "            '<a target=\"_blank\" href=https://colab.research.google.com/notebooks/data_table.ipynb>data table notebook</a>'\n",
              "            + ' to learn more about interactive tables.';\n",
              "          element.innerHTML = '';\n",
              "          dataTable['output_type'] = 'display_data';\n",
              "          await google.colab.output.renderOutput(dataTable, element);\n",
              "          const docLink = document.createElement('div');\n",
              "          docLink.innerHTML = docLinkHtml;\n",
              "          element.appendChild(docLink);\n",
              "        }\n",
              "      </script>\n",
              "    </div>\n",
              "  </div>\n",
              "  "
            ]
          },
          "metadata": {},
          "execution_count": 6
        }
      ]
    },
    {
      "cell_type": "code",
      "source": [
        "data.info()"
      ],
      "metadata": {
        "colab": {
          "base_uri": "https://localhost:8080/"
        },
        "id": "NTEDHCvGQS0i",
        "outputId": "44583e1e-471e-47a8-8c09-f518fd94cc1e"
      },
      "execution_count": null,
      "outputs": [
        {
          "output_type": "stream",
          "name": "stdout",
          "text": [
            "<class 'pandas.core.frame.DataFrame'>\n",
            "RangeIndex: 900 entries, 0 to 899\n",
            "Data columns (total 8 columns):\n",
            " #   Column           Non-Null Count  Dtype  \n",
            "---  ------           --------------  -----  \n",
            " 0   Area             900 non-null    int64  \n",
            " 1   MajorAxisLength  900 non-null    float64\n",
            " 2   MinorAxisLength  900 non-null    float64\n",
            " 3   Eccentricity     900 non-null    float64\n",
            " 4   ConvexArea       900 non-null    int64  \n",
            " 5   Extent           900 non-null    float64\n",
            " 6   Perimeter        900 non-null    float64\n",
            " 7   Class            900 non-null    int64  \n",
            "dtypes: float64(5), int64(3)\n",
            "memory usage: 56.4 KB\n"
          ]
        }
      ]
    },
    {
      "cell_type": "code",
      "source": [
        "x=data.drop(['Class'],axis=1).values\n",
        "y=data['Class'].values"
      ],
      "metadata": {
        "id": "fSprVtX2QYlt"
      },
      "execution_count": null,
      "outputs": []
    },
    {
      "cell_type": "code",
      "source": [
        "from sklearn.model_selection import train_test_split"
      ],
      "metadata": {
        "id": "MiLi-_enQb3G"
      },
      "execution_count": null,
      "outputs": []
    },
    {
      "cell_type": "code",
      "source": [
        "xtrain,xtest,ytrain,ytest=train_test_split(x,y,test_size=.20,random_state=0)\n"
      ],
      "metadata": {
        "id": "yD3KNocoTBVP"
      },
      "execution_count": null,
      "outputs": []
    },
    {
      "cell_type": "code",
      "source": [
        "xtrain.shape"
      ],
      "metadata": {
        "colab": {
          "base_uri": "https://localhost:8080/"
        },
        "id": "dbRTvKniUk12",
        "outputId": "8d23a1f1-d97d-4867-90d2-d1aa6e57bc2a"
      },
      "execution_count": null,
      "outputs": [
        {
          "output_type": "execute_result",
          "data": {
            "text/plain": [
              "(720, 7)"
            ]
          },
          "metadata": {},
          "execution_count": 84
        }
      ]
    },
    {
      "cell_type": "code",
      "source": [
        "ytrain.shape"
      ],
      "metadata": {
        "colab": {
          "base_uri": "https://localhost:8080/"
        },
        "id": "xjz5W5nJUvrj",
        "outputId": "d63a452a-7df3-4527-8215-873a8a68eec6"
      },
      "execution_count": null,
      "outputs": [
        {
          "output_type": "execute_result",
          "data": {
            "text/plain": [
              "(720,)"
            ]
          },
          "metadata": {},
          "execution_count": 85
        }
      ]
    },
    {
      "cell_type": "markdown",
      "source": [
        "RANDOM FOREST CLASSIFIER"
      ],
      "metadata": {
        "id": "hwDlnISbh2UE"
      }
    },
    {
      "cell_type": "code",
      "source": [
        "from sklearn.ensemble import RandomForestClassifier\n",
        "from sklearn.model_selection import train_test_split,GridSearchCV,cross_val_score"
      ],
      "metadata": {
        "id": "dQWXz_BKTPsy"
      },
      "execution_count": null,
      "outputs": []
    },
    {
      "cell_type": "code",
      "source": [
        "m=RandomForestClassifier()\n"
      ],
      "metadata": {
        "id": "VEqirrYgTaWu"
      },
      "execution_count": null,
      "outputs": []
    },
    {
      "cell_type": "code",
      "source": [
        "m.fit(xtrain,ytrain)"
      ],
      "metadata": {
        "colab": {
          "base_uri": "https://localhost:8080/"
        },
        "id": "wOlftW-WTkGl",
        "outputId": "f03da99d-700b-4aa5-a992-b6c049e7693e"
      },
      "execution_count": null,
      "outputs": [
        {
          "output_type": "execute_result",
          "data": {
            "text/plain": [
              "RandomForestClassifier()"
            ]
          },
          "metadata": {},
          "execution_count": 88
        }
      ]
    },
    {
      "cell_type": "code",
      "source": [
        "p=m.predict(xtest)"
      ],
      "metadata": {
        "id": "gu2ooAY4UWhB"
      },
      "execution_count": null,
      "outputs": []
    },
    {
      "cell_type": "code",
      "source": [
        "print(p)"
      ],
      "metadata": {
        "colab": {
          "base_uri": "https://localhost:8080/"
        },
        "id": "0Bk3YqckVEXz",
        "outputId": "7ac95dae-88a2-413c-9a10-0cb92f8a3ceb"
      },
      "execution_count": null,
      "outputs": [
        {
          "output_type": "stream",
          "name": "stdout",
          "text": [
            "[0 1 0 1 0 0 0 1 1 0 0 1 1 1 0 1 0 0 0 0 1 0 0 0 1 1 1 0 0 0 1 0 1 1 0 0 1\n",
            " 1 0 0 1 1 1 0 0 0 1 1 1 0 1 1 1 1 0 1 1 0 1 1 0 1 1 0 0 0 0 0 1 0 0 0 1 0\n",
            " 1 0 0 1 1 1 1 0 0 1 0 0 0 0 1 1 0 1 0 0 0 0 1 0 0 1 0 1 1 0 0 0 0 0 0 0 1\n",
            " 1 0 1 0 0 0 0 1 1 0 0 0 0 1 1 0 1 1 1 1 1 0 0 1 0 0 1 0 0 0 0 1 0 1 0 1 1\n",
            " 1 0 1 1 1 1 1 0 1 0 1 1 0 0 1 0 0 0 1 1 0 1 1 1 0 0 0 0 1 0 1 1]\n"
          ]
        }
      ]
    },
    {
      "cell_type": "code",
      "source": [
        "m.predict_proba(xtest)"
      ],
      "metadata": {
        "colab": {
          "base_uri": "https://localhost:8080/"
        },
        "id": "6R_JXiMnVGYc",
        "outputId": "5063a95c-c8ef-432a-9614-c2b12e75dbe4"
      },
      "execution_count": null,
      "outputs": [
        {
          "output_type": "execute_result",
          "data": {
            "text/plain": [
              "array([[0.78, 0.22],\n",
              "       [0.35, 0.65],\n",
              "       [0.76, 0.24],\n",
              "       [0.04, 0.96],\n",
              "       [0.94, 0.06],\n",
              "       [1.  , 0.  ],\n",
              "       [0.77, 0.23],\n",
              "       [0.12, 0.88],\n",
              "       [0.06, 0.94],\n",
              "       [0.63, 0.37],\n",
              "       [1.  , 0.  ],\n",
              "       [0.22, 0.78],\n",
              "       [0.11, 0.89],\n",
              "       [0.43, 0.57],\n",
              "       [0.91, 0.09],\n",
              "       [0.48, 0.52],\n",
              "       [0.67, 0.33],\n",
              "       [0.99, 0.01],\n",
              "       [0.81, 0.19],\n",
              "       [0.77, 0.23],\n",
              "       [0.44, 0.56],\n",
              "       [0.99, 0.01],\n",
              "       [0.99, 0.01],\n",
              "       [1.  , 0.  ],\n",
              "       [0.4 , 0.6 ],\n",
              "       [0.18, 0.82],\n",
              "       [0.07, 0.93],\n",
              "       [0.97, 0.03],\n",
              "       [0.79, 0.21],\n",
              "       [0.95, 0.05],\n",
              "       [0.07, 0.93],\n",
              "       [1.  , 0.  ],\n",
              "       [0.04, 0.96],\n",
              "       [0.41, 0.59],\n",
              "       [1.  , 0.  ],\n",
              "       [1.  , 0.  ],\n",
              "       [0.05, 0.95],\n",
              "       [0.08, 0.92],\n",
              "       [1.  , 0.  ],\n",
              "       [0.57, 0.43],\n",
              "       [0.19, 0.81],\n",
              "       [0.02, 0.98],\n",
              "       [0.02, 0.98],\n",
              "       [0.73, 0.27],\n",
              "       [0.84, 0.16],\n",
              "       [1.  , 0.  ],\n",
              "       [0.14, 0.86],\n",
              "       [0.08, 0.92],\n",
              "       [0.04, 0.96],\n",
              "       [0.94, 0.06],\n",
              "       [0.2 , 0.8 ],\n",
              "       [0.12, 0.88],\n",
              "       [0.02, 0.98],\n",
              "       [0.3 , 0.7 ],\n",
              "       [1.  , 0.  ],\n",
              "       [0.05, 0.95],\n",
              "       [0.02, 0.98],\n",
              "       [1.  , 0.  ],\n",
              "       [0.16, 0.84],\n",
              "       [0.07, 0.93],\n",
              "       [1.  , 0.  ],\n",
              "       [0.02, 0.98],\n",
              "       [0.  , 1.  ],\n",
              "       [1.  , 0.  ],\n",
              "       [0.68, 0.32],\n",
              "       [0.8 , 0.2 ],\n",
              "       [1.  , 0.  ],\n",
              "       [0.92, 0.08],\n",
              "       [0.45, 0.55],\n",
              "       [1.  , 0.  ],\n",
              "       [0.98, 0.02],\n",
              "       [1.  , 0.  ],\n",
              "       [0.05, 0.95],\n",
              "       [1.  , 0.  ],\n",
              "       [0.03, 0.97],\n",
              "       [0.8 , 0.2 ],\n",
              "       [1.  , 0.  ],\n",
              "       [0.03, 0.97],\n",
              "       [0.19, 0.81],\n",
              "       [0.44, 0.56],\n",
              "       [0.12, 0.88],\n",
              "       [1.  , 0.  ],\n",
              "       [1.  , 0.  ],\n",
              "       [0.09, 0.91],\n",
              "       [0.98, 0.02],\n",
              "       [0.95, 0.05],\n",
              "       [0.99, 0.01],\n",
              "       [0.9 , 0.1 ],\n",
              "       [0.12, 0.88],\n",
              "       [0.14, 0.86],\n",
              "       [0.5 , 0.5 ],\n",
              "       [0.11, 0.89],\n",
              "       [0.99, 0.01],\n",
              "       [0.66, 0.34],\n",
              "       [0.9 , 0.1 ],\n",
              "       [1.  , 0.  ],\n",
              "       [0.11, 0.89],\n",
              "       [0.95, 0.05],\n",
              "       [0.94, 0.06],\n",
              "       [0.02, 0.98],\n",
              "       [0.93, 0.07],\n",
              "       [0.04, 0.96],\n",
              "       [0.02, 0.98],\n",
              "       [0.96, 0.04],\n",
              "       [0.89, 0.11],\n",
              "       [0.8 , 0.2 ],\n",
              "       [0.99, 0.01],\n",
              "       [0.55, 0.45],\n",
              "       [1.  , 0.  ],\n",
              "       [0.99, 0.01],\n",
              "       [0.29, 0.71],\n",
              "       [0.02, 0.98],\n",
              "       [1.  , 0.  ],\n",
              "       [0.02, 0.98],\n",
              "       [1.  , 0.  ],\n",
              "       [0.72, 0.28],\n",
              "       [0.93, 0.07],\n",
              "       [0.98, 0.02],\n",
              "       [0.05, 0.95],\n",
              "       [0.1 , 0.9 ],\n",
              "       [1.  , 0.  ],\n",
              "       [1.  , 0.  ],\n",
              "       [1.  , 0.  ],\n",
              "       [0.66, 0.34],\n",
              "       [0.07, 0.93],\n",
              "       [0.18, 0.82],\n",
              "       [0.97, 0.03],\n",
              "       [0.04, 0.96],\n",
              "       [0.05, 0.95],\n",
              "       [0.1 , 0.9 ],\n",
              "       [0.19, 0.81],\n",
              "       [0.13, 0.87],\n",
              "       [0.81, 0.19],\n",
              "       [0.95, 0.05],\n",
              "       [0.06, 0.94],\n",
              "       [0.9 , 0.1 ],\n",
              "       [0.81, 0.19],\n",
              "       [0.03, 0.97],\n",
              "       [0.9 , 0.1 ],\n",
              "       [1.  , 0.  ],\n",
              "       [1.  , 0.  ],\n",
              "       [0.83, 0.17],\n",
              "       [0.19, 0.81],\n",
              "       [0.86, 0.14],\n",
              "       [0.48, 0.52],\n",
              "       [0.71, 0.29],\n",
              "       [0.06, 0.94],\n",
              "       [0.24, 0.76],\n",
              "       [0.01, 0.99],\n",
              "       [1.  , 0.  ],\n",
              "       [0.13, 0.87],\n",
              "       [0.35, 0.65],\n",
              "       [0.11, 0.89],\n",
              "       [0.39, 0.61],\n",
              "       [0.  , 1.  ],\n",
              "       [0.62, 0.38],\n",
              "       [0.02, 0.98],\n",
              "       [1.  , 0.  ],\n",
              "       [0.09, 0.91],\n",
              "       [0.01, 0.99],\n",
              "       [0.53, 0.47],\n",
              "       [0.68, 0.32],\n",
              "       [0.18, 0.82],\n",
              "       [1.  , 0.  ],\n",
              "       [0.97, 0.03],\n",
              "       [1.  , 0.  ],\n",
              "       [0.38, 0.62],\n",
              "       [0.03, 0.97],\n",
              "       [0.93, 0.07],\n",
              "       [0.01, 0.99],\n",
              "       [0.02, 0.98],\n",
              "       [0.03, 0.97],\n",
              "       [0.65, 0.35],\n",
              "       [0.61, 0.39],\n",
              "       [0.87, 0.13],\n",
              "       [0.79, 0.21],\n",
              "       [0.02, 0.98],\n",
              "       [1.  , 0.  ],\n",
              "       [0.2 , 0.8 ],\n",
              "       [0.15, 0.85]])"
            ]
          },
          "metadata": {},
          "execution_count": 91
        }
      ]
    },
    {
      "cell_type": "code",
      "source": [
        "from sklearn.metrics import accuracy_score,classification_report,confusion_matrix"
      ],
      "metadata": {
        "id": "rvgarsR0VJcU"
      },
      "execution_count": null,
      "outputs": []
    },
    {
      "cell_type": "code",
      "source": [
        "accuracy_score(ytest,p)"
      ],
      "metadata": {
        "colab": {
          "base_uri": "https://localhost:8080/"
        },
        "id": "2P9eJQ2lVXcG",
        "outputId": "73f5b9e3-3ffb-4e77-d0c8-c65b5891b7d4"
      },
      "execution_count": null,
      "outputs": [
        {
          "output_type": "execute_result",
          "data": {
            "text/plain": [
              "0.8722222222222222"
            ]
          },
          "metadata": {},
          "execution_count": 93
        }
      ]
    },
    {
      "cell_type": "code",
      "source": [
        "confusion_matrix(ytest,p)"
      ],
      "metadata": {
        "colab": {
          "base_uri": "https://localhost:8080/"
        },
        "id": "8woZas32VZqH",
        "outputId": "0e3a2476-3046-46ea-887a-8a059baf530b"
      },
      "execution_count": null,
      "outputs": [
        {
          "output_type": "execute_result",
          "data": {
            "text/plain": [
              "array([[85, 12],\n",
              "       [11, 72]])"
            ]
          },
          "metadata": {},
          "execution_count": 94
        }
      ]
    },
    {
      "cell_type": "code",
      "source": [
        "z=classification_report(ytest,p)\n",
        "print(z)"
      ],
      "metadata": {
        "colab": {
          "base_uri": "https://localhost:8080/"
        },
        "id": "XuwAhxFQVxIH",
        "outputId": "743303e0-0fd4-44ed-8c00-a47785f588fa"
      },
      "execution_count": null,
      "outputs": [
        {
          "output_type": "stream",
          "name": "stdout",
          "text": [
            "              precision    recall  f1-score   support\n",
            "\n",
            "           0       0.89      0.88      0.88        97\n",
            "           1       0.86      0.87      0.86        83\n",
            "\n",
            "    accuracy                           0.87       180\n",
            "   macro avg       0.87      0.87      0.87       180\n",
            "weighted avg       0.87      0.87      0.87       180\n",
            "\n"
          ]
        }
      ]
    },
    {
      "cell_type": "code",
      "source": [
        "from sklearn.metrics import roc_auc_score,auc,roc_curve"
      ],
      "metadata": {
        "id": "GYizIjLzV0rC"
      },
      "execution_count": null,
      "outputs": []
    },
    {
      "cell_type": "code",
      "source": [
        "y_proba=m.predict_proba(xtest)\n",
        "y_predicted=y_proba[:,1]"
      ],
      "metadata": {
        "id": "Rd0vhDQZWJEP"
      },
      "execution_count": null,
      "outputs": []
    },
    {
      "cell_type": "code",
      "source": [
        "print(y_predicted)"
      ],
      "metadata": {
        "colab": {
          "base_uri": "https://localhost:8080/"
        },
        "id": "-eJMoKTlWNk0",
        "outputId": "a5eb760c-ab26-4d65-d0ca-c3f1728ed1d1"
      },
      "execution_count": null,
      "outputs": [
        {
          "output_type": "stream",
          "name": "stdout",
          "text": [
            "[0.22 0.65 0.24 0.96 0.06 0.   0.23 0.88 0.94 0.37 0.   0.78 0.89 0.57\n",
            " 0.09 0.52 0.33 0.01 0.19 0.23 0.56 0.01 0.01 0.   0.6  0.82 0.93 0.03\n",
            " 0.21 0.05 0.93 0.   0.96 0.59 0.   0.   0.95 0.92 0.   0.43 0.81 0.98\n",
            " 0.98 0.27 0.16 0.   0.86 0.92 0.96 0.06 0.8  0.88 0.98 0.7  0.   0.95\n",
            " 0.98 0.   0.84 0.93 0.   0.98 1.   0.   0.32 0.2  0.   0.08 0.55 0.\n",
            " 0.02 0.   0.95 0.   0.97 0.2  0.   0.97 0.81 0.56 0.88 0.   0.   0.91\n",
            " 0.02 0.05 0.01 0.1  0.88 0.86 0.5  0.89 0.01 0.34 0.1  0.   0.89 0.05\n",
            " 0.06 0.98 0.07 0.96 0.98 0.04 0.11 0.2  0.01 0.45 0.   0.01 0.71 0.98\n",
            " 0.   0.98 0.   0.28 0.07 0.02 0.95 0.9  0.   0.   0.   0.34 0.93 0.82\n",
            " 0.03 0.96 0.95 0.9  0.81 0.87 0.19 0.05 0.94 0.1  0.19 0.97 0.1  0.\n",
            " 0.   0.17 0.81 0.14 0.52 0.29 0.94 0.76 0.99 0.   0.87 0.65 0.89 0.61\n",
            " 1.   0.38 0.98 0.   0.91 0.99 0.47 0.32 0.82 0.   0.03 0.   0.62 0.97\n",
            " 0.07 0.99 0.98 0.97 0.35 0.39 0.13 0.21 0.98 0.   0.8  0.85]\n"
          ]
        }
      ]
    },
    {
      "cell_type": "code",
      "source": [
        "fpr,tpr,thresholds=roc_curve(ytest,y_predicted)"
      ],
      "metadata": {
        "id": "kTRGqE0dWT5J"
      },
      "execution_count": null,
      "outputs": []
    },
    {
      "cell_type": "code",
      "source": [
        "roc_auc=auc(fpr,tpr)\n",
        "print(roc_auc)"
      ],
      "metadata": {
        "colab": {
          "base_uri": "https://localhost:8080/"
        },
        "id": "WJXNsveTWVz_",
        "outputId": "27e7f59d-daaf-4732-c40f-6d3fdc35edbc"
      },
      "execution_count": null,
      "outputs": [
        {
          "output_type": "stream",
          "name": "stdout",
          "text": [
            "0.9470252142590982\n"
          ]
        }
      ]
    },
    {
      "cell_type": "code",
      "source": [
        "import matplotlib.pyplot as plt"
      ],
      "metadata": {
        "id": "liaeoDurWiBW"
      },
      "execution_count": null,
      "outputs": []
    },
    {
      "cell_type": "code",
      "source": [
        "plt.figure()\n",
        "plt.plot(fpr,tpr,color='orange',label='ROC'%roc_auc)\n",
        "plt.plot([0,1],[0,1],color='blue',linestyle='--')\n",
        "plt.xlim([0.0,1.0])\n",
        "plt.ylim([0.0,1.0])\n",
        "plt.xlabel('False Positive Rate 1-(specificity)')\n",
        "plt.ylabel('True Positive Rate(sensitivity')"
      ],
      "metadata": {
        "colab": {
          "base_uri": "https://localhost:8080/",
          "height": 300
        },
        "id": "-JdtdIa8Wa4Y",
        "outputId": "6f7ff536-0095-494c-ccf0-72b6ec356483"
      },
      "execution_count": null,
      "outputs": [
        {
          "output_type": "execute_result",
          "data": {
            "text/plain": [
              "Text(0, 0.5, 'True Positive Rate(sensitivity')"
            ]
          },
          "metadata": {},
          "execution_count": 107
        },
        {
          "output_type": "display_data",
          "data": {
            "text/plain": [
              "<Figure size 432x288 with 1 Axes>"
            ],
            "image/png": "[encoded data removed]"
          },
          "metadata": {
            "needs_background": "light"
          }
        }
      ]
    },
    {
      "cell_type": "markdown",
      "source": [
        "DECISION TREE CLASSIFIER"
      ],
      "metadata": {
        "id": "LibFvTGjh7Cb"
      }
    },
    {
      "cell_type": "code",
      "source": [
        "from sklearn.tree import DecisionTreeClassifier\n",
        "c=DecisionTreeClassifier()"
      ],
      "metadata": {
        "id": "uLKgSAa0WeOe"
      },
      "execution_count": null,
      "outputs": []
    },
    {
      "cell_type": "code",
      "source": [
        "xtrain,xtest,ytrain,ytest=train_test_split(x,y,test_size=.20,random_state=0)"
      ],
      "metadata": {
        "id": "cCIoFPGxXkl3"
      },
      "execution_count": null,
      "outputs": []
    },
    {
      "cell_type": "code",
      "source": [
        "c.fit(xtrain,ytrain)"
      ],
      "metadata": {
        "colab": {
          "base_uri": "https://localhost:8080/"
        },
        "id": "bu7T71XMXBkq",
        "outputId": "e578c835-0612-4392-b6b6-edeb8f12c28f"
      },
      "execution_count": null,
      "outputs": [
        {
          "output_type": "execute_result",
          "data": {
            "text/plain": [
              "DecisionTreeClassifier()"
            ]
          },
          "metadata": {},
          "execution_count": 136
        }
      ]
    },
    {
      "cell_type": "code",
      "source": [
        "v=c.predict(xtest)"
      ],
      "metadata": {
        "id": "SBCR2eL7XXXH"
      },
      "execution_count": null,
      "outputs": []
    },
    {
      "cell_type": "code",
      "source": [
        "c.predict_proba(xtest)"
      ],
      "metadata": {
        "colab": {
          "base_uri": "https://localhost:8080/"
        },
        "id": "DKBmAY4RXb8p",
        "outputId": "cc6fb3f4-7081-4e89-d841-788ef1b4fc17"
      },
      "execution_count": null,
      "outputs": [
        {
          "output_type": "execute_result",
          "data": {
            "text/plain": [
              "array([[0., 1.],\n",
              "       [1., 0.],\n",
              "       [1., 0.],\n",
              "       [1., 0.],\n",
              "       [0., 1.],\n",
              "       [1., 0.],\n",
              "       [0., 1.],\n",
              "       [0., 1.],\n",
              "       [0., 1.],\n",
              "       [0., 1.],\n",
              "       [1., 0.],\n",
              "       [0., 1.],\n",
              "       [0., 1.],\n",
              "       [1., 0.],\n",
              "       [1., 0.],\n",
              "       [1., 0.],\n",
              "       [1., 0.],\n",
              "       [1., 0.],\n",
              "       [1., 0.],\n",
              "       [1., 0.],\n",
              "       [0., 1.],\n",
              "       [1., 0.],\n",
              "       [1., 0.],\n",
              "       [1., 0.],\n",
              "       [1., 0.],\n",
              "       [0., 1.],\n",
              "       [0., 1.],\n",
              "       [1., 0.],\n",
              "       [0., 1.],\n",
              "       [1., 0.],\n",
              "       [0., 1.],\n",
              "       [1., 0.],\n",
              "       [1., 0.],\n",
              "       [0., 1.],\n",
              "       [1., 0.],\n",
              "       [1., 0.],\n",
              "       [0., 1.],\n",
              "       [0., 1.],\n",
              "       [1., 0.],\n",
              "       [0., 1.],\n",
              "       [1., 0.],\n",
              "       [0., 1.],\n",
              "       [0., 1.],\n",
              "       [1., 0.],\n",
              "       [1., 0.],\n",
              "       [1., 0.],\n",
              "       [0., 1.],\n",
              "       [0., 1.],\n",
              "       [0., 1.],\n",
              "       [1., 0.],\n",
              "       [0., 1.],\n",
              "       [0., 1.],\n",
              "       [0., 1.],\n",
              "       [0., 1.],\n",
              "       [1., 0.],\n",
              "       [0., 1.],\n",
              "       [0., 1.],\n",
              "       [1., 0.],\n",
              "       [0., 1.],\n",
              "       [1., 0.],\n",
              "       [1., 0.],\n",
              "       [0., 1.],\n",
              "       [0., 1.],\n",
              "       [1., 0.],\n",
              "       [1., 0.],\n",
              "       [1., 0.],\n",
              "       [1., 0.],\n",
              "       [1., 0.],\n",
              "       [1., 0.],\n",
              "       [1., 0.],\n",
              "       [1., 0.],\n",
              "       [1., 0.],\n",
              "       [1., 0.],\n",
              "       [1., 0.],\n",
              "       [0., 1.],\n",
              "       [1., 0.],\n",
              "       [1., 0.],\n",
              "       [0., 1.],\n",
              "       [0., 1.],\n",
              "       [1., 0.],\n",
              "       [0., 1.],\n",
              "       [1., 0.],\n",
              "       [1., 0.],\n",
              "       [0., 1.],\n",
              "       [1., 0.],\n",
              "       [1., 0.],\n",
              "       [1., 0.],\n",
              "       [1., 0.],\n",
              "       [0., 1.],\n",
              "       [0., 1.],\n",
              "       [0., 1.],\n",
              "       [0., 1.],\n",
              "       [1., 0.],\n",
              "       [0., 1.],\n",
              "       [1., 0.],\n",
              "       [1., 0.],\n",
              "       [0., 1.],\n",
              "       [1., 0.],\n",
              "       [0., 1.],\n",
              "       [0., 1.],\n",
              "       [1., 0.],\n",
              "       [0., 1.],\n",
              "       [0., 1.],\n",
              "       [1., 0.],\n",
              "       [1., 0.],\n",
              "       [1., 0.],\n",
              "       [1., 0.],\n",
              "       [1., 0.],\n",
              "       [1., 0.],\n",
              "       [1., 0.],\n",
              "       [0., 1.],\n",
              "       [0., 1.],\n",
              "       [1., 0.],\n",
              "       [0., 1.],\n",
              "       [1., 0.],\n",
              "       [0., 1.],\n",
              "       [1., 0.],\n",
              "       [1., 0.],\n",
              "       [0., 1.],\n",
              "       [0., 1.],\n",
              "       [1., 0.],\n",
              "       [1., 0.],\n",
              "       [1., 0.],\n",
              "       [0., 1.],\n",
              "       [0., 1.],\n",
              "       [0., 1.],\n",
              "       [1., 0.],\n",
              "       [0., 1.],\n",
              "       [0., 1.],\n",
              "       [1., 0.],\n",
              "       [0., 1.],\n",
              "       [0., 1.],\n",
              "       [1., 0.],\n",
              "       [0., 1.],\n",
              "       [1., 0.],\n",
              "       [1., 0.],\n",
              "       [0., 1.],\n",
              "       [0., 1.],\n",
              "       [1., 0.],\n",
              "       [1., 0.],\n",
              "       [1., 0.],\n",
              "       [1., 0.],\n",
              "       [0., 1.],\n",
              "       [1., 0.],\n",
              "       [0., 1.],\n",
              "       [1., 0.],\n",
              "       [0., 1.],\n",
              "       [1., 0.],\n",
              "       [0., 1.],\n",
              "       [1., 0.],\n",
              "       [0., 1.],\n",
              "       [0., 1.],\n",
              "       [1., 0.],\n",
              "       [0., 1.],\n",
              "       [0., 1.],\n",
              "       [0., 1.],\n",
              "       [0., 1.],\n",
              "       [1., 0.],\n",
              "       [0., 1.],\n",
              "       [0., 1.],\n",
              "       [1., 0.],\n",
              "       [0., 1.],\n",
              "       [0., 1.],\n",
              "       [1., 0.],\n",
              "       [1., 0.],\n",
              "       [1., 0.],\n",
              "       [0., 1.],\n",
              "       [0., 1.],\n",
              "       [0., 1.],\n",
              "       [0., 1.],\n",
              "       [0., 1.],\n",
              "       [0., 1.],\n",
              "       [0., 1.],\n",
              "       [0., 1.],\n",
              "       [1., 0.],\n",
              "       [1., 0.],\n",
              "       [0., 1.],\n",
              "       [1., 0.],\n",
              "       [0., 1.],\n",
              "       [0., 1.]])"
            ]
          },
          "metadata": {},
          "execution_count": 138
        }
      ]
    },
    {
      "cell_type": "code",
      "source": [
        "accuracy_score(ytest,v)"
      ],
      "metadata": {
        "colab": {
          "base_uri": "https://localhost:8080/"
        },
        "id": "kbJvVSCNXfEu",
        "outputId": "64be9a96-99ff-48e1-f407-4814ed73c98b"
      },
      "execution_count": null,
      "outputs": [
        {
          "output_type": "execute_result",
          "data": {
            "text/plain": [
              "0.8"
            ]
          },
          "metadata": {},
          "execution_count": 139
        }
      ]
    },
    {
      "cell_type": "code",
      "source": [
        "confusion_matrix(ytest,v)"
      ],
      "metadata": {
        "colab": {
          "base_uri": "https://localhost:8080/"
        },
        "id": "nq5nH-IaXiVE",
        "outputId": "12c35bd7-f021-42c6-fa3d-18c52ab66b92"
      },
      "execution_count": null,
      "outputs": [
        {
          "output_type": "execute_result",
          "data": {
            "text/plain": [
              "array([[77, 20],\n",
              "       [16, 67]])"
            ]
          },
          "metadata": {},
          "execution_count": 141
        }
      ]
    },
    {
      "cell_type": "code",
      "source": [
        "q=classification_report(ytest,v)\n",
        "print(q)"
      ],
      "metadata": {
        "colab": {
          "base_uri": "https://localhost:8080/"
        },
        "id": "ADYN-IuJX86G",
        "outputId": "1c3d9ce3-02c4-4366-d24f-8b68610c1885"
      },
      "execution_count": null,
      "outputs": [
        {
          "output_type": "stream",
          "name": "stdout",
          "text": [
            "              precision    recall  f1-score   support\n",
            "\n",
            "           0       0.83      0.79      0.81        97\n",
            "           1       0.77      0.81      0.79        83\n",
            "\n",
            "    accuracy                           0.80       180\n",
            "   macro avg       0.80      0.80      0.80       180\n",
            "weighted avg       0.80      0.80      0.80       180\n",
            "\n"
          ]
        }
      ]
    },
    {
      "cell_type": "code",
      "source": [
        "from sklearn import decomposition, datasets\n",
        "from sklearn import tree\n",
        "from sklearn.pipeline import Pipeline\n",
        "from sklearn.model_selection import GridSearchCV, cross_val_score\n",
        "from sklearn.preprocessing import StandardScaler"
      ],
      "metadata": {
        "id": "P0S_7wiyYGy1"
      },
      "execution_count": null,
      "outputs": []
    },
    {
      "cell_type": "code",
      "source": [
        "pca=decomposition.PCA()\n",
        "sc=StandardScaler()"
      ],
      "metadata": {
        "id": "sz2qCnQ-YghC"
      },
      "execution_count": null,
      "outputs": []
    },
    {
      "cell_type": "code",
      "source": [
        "dt=tree.DecisionTreeClassifier()\n"
      ],
      "metadata": {
        "id": "unIohFISYjFL"
      },
      "execution_count": null,
      "outputs": []
    },
    {
      "cell_type": "code",
      "source": [
        "pipe=Pipeline(steps=[('sc',sc),('pca',pca),('dt',dt)])"
      ],
      "metadata": {
        "id": "OuWcvArzYnsy"
      },
      "execution_count": null,
      "outputs": []
    },
    {
      "cell_type": "code",
      "source": [
        "n_components=list(range(1,x.shape[1]+1,1))"
      ],
      "metadata": {
        "id": "MMXFYE5QYtei"
      },
      "execution_count": null,
      "outputs": []
    },
    {
      "cell_type": "code",
      "source": [
        "criterion=['gini','entropy']\n",
        "max_depth=[1,2,3,4,5]"
      ],
      "metadata": {
        "id": "3ZjVAH7jY1i1"
      },
      "execution_count": null,
      "outputs": []
    },
    {
      "cell_type": "code",
      "source": [
        "p=dict(pca__n_components=n_components,dt__criterion=criterion,dt__max_depth=max_depth)"
      ],
      "metadata": {
        "id": "gLneCkeQY3Te"
      },
      "execution_count": null,
      "outputs": []
    },
    {
      "cell_type": "code",
      "source": [
        "clf=GridSearchCV(pipe,p)"
      ],
      "metadata": {
        "id": "A3h7VyHnY4kM"
      },
      "execution_count": null,
      "outputs": []
    },
    {
      "cell_type": "code",
      "source": [
        "clf.fit(x,y)"
      ],
      "metadata": {
        "colab": {
          "base_uri": "https://localhost:8080/"
        },
        "id": "B_S59v8jY6C-",
        "outputId": "a7adbfb6-ed41-4a2c-8205-e23e3dc0f26e"
      },
      "execution_count": null,
      "outputs": [
        {
          "output_type": "execute_result",
          "data": {
            "text/plain": [
              "GridSearchCV(estimator=Pipeline(steps=[('sc', StandardScaler()), ('pca', PCA()),\n",
              "                                       ('dt', DecisionTreeClassifier())]),\n",
              "             param_grid={'dt__criterion': ['gini', 'entropy'],\n",
              "                         'dt__max_depth': [1, 2, 3, 4, 5],\n",
              "                         'pca__n_components': [1, 2, 3, 4, 5, 6, 7]})"
            ]
          },
          "metadata": {},
          "execution_count": 159
        }
      ]
    },
    {
      "cell_type": "code",
      "source": [
        "print('Best max_depth: ',clf.best_estimator_.get_params()['dt__max_depth'])\n"
      ],
      "metadata": {
        "colab": {
          "base_uri": "https://localhost:8080/"
        },
        "id": "uwoRZ9xlY7en",
        "outputId": "17e2d8d4-5b7b-4f4b-cd26-212351bacef5"
      },
      "execution_count": null,
      "outputs": [
        {
          "output_type": "stream",
          "name": "stdout",
          "text": [
            "Best max_depth:  5\n"
          ]
        }
      ]
    },
    {
      "cell_type": "code",
      "source": [
        "print('Best Criterion: ',clf.best_estimator_.get_params()['dt__criterion'])"
      ],
      "metadata": {
        "colab": {
          "base_uri": "https://localhost:8080/"
        },
        "id": "CLwKX_w3Y9f7",
        "outputId": "62870d4e-fcfa-4c32-a7f8-b8635638588c"
      },
      "execution_count": null,
      "outputs": [
        {
          "output_type": "stream",
          "name": "stdout",
          "text": [
            "Best Criterion:  entropy\n"
          ]
        }
      ]
    },
    {
      "cell_type": "code",
      "source": [
        "print(clf.best_estimator_.get_params()['dt'])"
      ],
      "metadata": {
        "colab": {
          "base_uri": "https://localhost:8080/"
        },
        "id": "mcDS_Ot5Y-me",
        "outputId": "ee81cb89-bd0f-4971-e088-a37926309ac0"
      },
      "execution_count": null,
      "outputs": [
        {
          "output_type": "stream",
          "name": "stdout",
          "text": [
            "DecisionTreeClassifier(criterion='entropy', max_depth=5)\n"
          ]
        }
      ]
    },
    {
      "cell_type": "code",
      "source": [
        "CV_result=cross_val_score(clf,x,y,cv=4, n_jobs=-1)"
      ],
      "metadata": {
        "id": "JZrMhxRRZEOm"
      },
      "execution_count": null,
      "outputs": []
    },
    {
      "cell_type": "code",
      "source": [
        "print(CV_result)\n",
        "print(CV_result.mean())\n",
        "print(CV_result.std())"
      ],
      "metadata": {
        "colab": {
          "base_uri": "https://localhost:8080/"
        },
        "id": "ZOXo-2lqZFoW",
        "outputId": "50f9efa7-8924-414d-803e-52394ca00632"
      },
      "execution_count": null,
      "outputs": [
        {
          "output_type": "stream",
          "name": "stdout",
          "text": [
            "[0.85777778 0.88       0.83111111 0.81333333]\n",
            "0.8455555555555556\n",
            "0.02541021472450948\n"
          ]
        }
      ]
    },
    {
      "cell_type": "markdown",
      "source": [
        "KNN \n"
      ],
      "metadata": {
        "id": "fvaijXR8hwEY"
      }
    },
    {
      "cell_type": "code",
      "source": [
        "from sklearn.neighbors import KNeighborsClassifier"
      ],
      "metadata": {
        "id": "-z5riZy0eRAv"
      },
      "execution_count": 217,
      "outputs": []
    },
    {
      "cell_type": "code",
      "source": [
        "xtrain,xtest,ytrain,ytest=train_test_split(x,y,test_size=.25,random_state=0)"
      ],
      "metadata": {
        "id": "lEAy1FBrfGUF"
      },
      "execution_count": 241,
      "outputs": []
    },
    {
      "cell_type": "code",
      "source": [
        "from sklearn.preprocessing import StandardScaler"
      ],
      "metadata": {
        "id": "RFJkOgv1fDS7"
      },
      "execution_count": 242,
      "outputs": []
    },
    {
      "cell_type": "code",
      "source": [
        "s=StandardScaler()"
      ],
      "metadata": {
        "id": "UmMfMXRUfXm-"
      },
      "execution_count": 243,
      "outputs": []
    },
    {
      "cell_type": "code",
      "source": [
        "e=KNeighborsClassifier(n_neighbors=5,metric='minkowski',p=2)\n",
        "e.fit(xtrain,ytrain)"
      ],
      "metadata": {
        "colab": {
          "base_uri": "https://localhost:8080/"
        },
        "id": "0YRFe8-8fbJF",
        "outputId": "102bd925-353e-4800-c1ff-2b8f14f98801"
      },
      "execution_count": 244,
      "outputs": [
        {
          "output_type": "execute_result",
          "data": {
            "text/plain": [
              "KNeighborsClassifier()"
            ]
          },
          "metadata": {},
          "execution_count": 244
        }
      ]
    },
    {
      "cell_type": "code",
      "source": [
        "t=e.predict(xtest)"
      ],
      "metadata": {
        "id": "oyAp8ilCfdRO"
      },
      "execution_count": 245,
      "outputs": []
    },
    {
      "cell_type": "code",
      "source": [
        "e.predict_proba(xtest)"
      ],
      "metadata": {
        "colab": {
          "base_uri": "https://localhost:8080/"
        },
        "id": "l92BtsNGf-VF",
        "outputId": "d547d54a-ec54-4e89-b993-029753aea327"
      },
      "execution_count": 246,
      "outputs": [
        {
          "output_type": "execute_result",
          "data": {
            "text/plain": [
              "array([[0.8, 0.2],\n",
              "       [0.4, 0.6],\n",
              "       [1. , 0. ],\n",
              "       [0. , 1. ],\n",
              "       [1. , 0. ],\n",
              "       [1. , 0. ],\n",
              "       [1. , 0. ],\n",
              "       [0. , 1. ],\n",
              "       [0. , 1. ],\n",
              "       [0.6, 0.4],\n",
              "       [1. , 0. ],\n",
              "       [0.4, 0.6],\n",
              "       [0. , 1. ],\n",
              "       [0.4, 0.6],\n",
              "       [1. , 0. ],\n",
              "       [0.8, 0.2],\n",
              "       [0.4, 0.6],\n",
              "       [1. , 0. ],\n",
              "       [0.8, 0.2],\n",
              "       [0.4, 0.6],\n",
              "       [0.2, 0.8],\n",
              "       [1. , 0. ],\n",
              "       [1. , 0. ],\n",
              "       [1. , 0. ],\n",
              "       [0. , 1. ],\n",
              "       [0. , 1. ],\n",
              "       [0. , 1. ],\n",
              "       [0.8, 0.2],\n",
              "       [1. , 0. ],\n",
              "       [1. , 0. ],\n",
              "       [0. , 1. ],\n",
              "       [1. , 0. ],\n",
              "       [0. , 1. ],\n",
              "       [0.4, 0.6],\n",
              "       [1. , 0. ],\n",
              "       [1. , 0. ],\n",
              "       [0.2, 0.8],\n",
              "       [0. , 1. ],\n",
              "       [1. , 0. ],\n",
              "       [0.8, 0.2],\n",
              "       [0. , 1. ],\n",
              "       [0. , 1. ],\n",
              "       [0. , 1. ],\n",
              "       [0.4, 0.6],\n",
              "       [0.4, 0.6],\n",
              "       [1. , 0. ],\n",
              "       [0.4, 0.6],\n",
              "       [0. , 1. ],\n",
              "       [0.2, 0.8],\n",
              "       [1. , 0. ],\n",
              "       [0.4, 0.6],\n",
              "       [0. , 1. ],\n",
              "       [0.2, 0.8],\n",
              "       [0. , 1. ],\n",
              "       [1. , 0. ],\n",
              "       [0. , 1. ],\n",
              "       [0. , 1. ],\n",
              "       [1. , 0. ],\n",
              "       [0. , 1. ],\n",
              "       [0.2, 0.8],\n",
              "       [1. , 0. ],\n",
              "       [0.2, 0.8],\n",
              "       [0. , 1. ],\n",
              "       [1. , 0. ],\n",
              "       [0.2, 0.8],\n",
              "       [0.6, 0.4],\n",
              "       [1. , 0. ],\n",
              "       [1. , 0. ],\n",
              "       [0.6, 0.4],\n",
              "       [1. , 0. ],\n",
              "       [1. , 0. ],\n",
              "       [1. , 0. ],\n",
              "       [0. , 1. ],\n",
              "       [1. , 0. ],\n",
              "       [0.4, 0.6],\n",
              "       [0.8, 0.2],\n",
              "       [0.8, 0.2],\n",
              "       [0. , 1. ],\n",
              "       [0.2, 0.8],\n",
              "       [0. , 1. ],\n",
              "       [0.2, 0.8],\n",
              "       [1. , 0. ],\n",
              "       [1. , 0. ],\n",
              "       [0. , 1. ],\n",
              "       [0.8, 0.2],\n",
              "       [1. , 0. ],\n",
              "       [1. , 0. ],\n",
              "       [1. , 0. ],\n",
              "       [0. , 1. ],\n",
              "       [0.2, 0.8],\n",
              "       [0.2, 0.8],\n",
              "       [0.2, 0.8],\n",
              "       [0.6, 0.4],\n",
              "       [1. , 0. ],\n",
              "       [0.8, 0.2],\n",
              "       [1. , 0. ],\n",
              "       [0.2, 0.8],\n",
              "       [1. , 0. ],\n",
              "       [1. , 0. ],\n",
              "       [0. , 1. ],\n",
              "       [0.8, 0.2],\n",
              "       [0. , 1. ],\n",
              "       [0.2, 0.8],\n",
              "       [1. , 0. ],\n",
              "       [1. , 0. ],\n",
              "       [0.8, 0.2],\n",
              "       [1. , 0. ],\n",
              "       [0. , 1. ],\n",
              "       [1. , 0. ],\n",
              "       [1. , 0. ],\n",
              "       [0. , 1. ],\n",
              "       [0. , 1. ],\n",
              "       [1. , 0. ],\n",
              "       [0. , 1. ],\n",
              "       [1. , 0. ],\n",
              "       [0.8, 0.2],\n",
              "       [0.8, 0.2],\n",
              "       [0.8, 0.2],\n",
              "       [0. , 1. ],\n",
              "       [0.2, 0.8],\n",
              "       [1. , 0. ],\n",
              "       [1. , 0. ],\n",
              "       [1. , 0. ],\n",
              "       [0.2, 0.8],\n",
              "       [0. , 1. ],\n",
              "       [0. , 1. ],\n",
              "       [0.6, 0.4],\n",
              "       [0.2, 0.8],\n",
              "       [0. , 1. ],\n",
              "       [0.4, 0.6],\n",
              "       [0. , 1. ],\n",
              "       [0. , 1. ],\n",
              "       [0.4, 0.6],\n",
              "       [1. , 0. ],\n",
              "       [0. , 1. ],\n",
              "       [1. , 0. ],\n",
              "       [0.6, 0.4],\n",
              "       [0.2, 0.8],\n",
              "       [0.4, 0.6],\n",
              "       [1. , 0. ],\n",
              "       [1. , 0. ],\n",
              "       [0. , 1. ],\n",
              "       [0. , 1. ],\n",
              "       [1. , 0. ],\n",
              "       [0.4, 0.6],\n",
              "       [0.2, 0.8],\n",
              "       [0. , 1. ],\n",
              "       [0.4, 0.6],\n",
              "       [0. , 1. ],\n",
              "       [1. , 0. ],\n",
              "       [0. , 1. ],\n",
              "       [0.6, 0.4],\n",
              "       [0.4, 0.6],\n",
              "       [0.4, 0.6],\n",
              "       [0. , 1. ],\n",
              "       [0.4, 0.6],\n",
              "       [0. , 1. ],\n",
              "       [1. , 0. ],\n",
              "       [0. , 1. ],\n",
              "       [0. , 1. ],\n",
              "       [0.2, 0.8],\n",
              "       [0.4, 0.6],\n",
              "       [0. , 1. ],\n",
              "       [1. , 0. ],\n",
              "       [1. , 0. ],\n",
              "       [1. , 0. ],\n",
              "       [0.4, 0.6],\n",
              "       [0. , 1. ],\n",
              "       [1. , 0. ],\n",
              "       [0.2, 0.8],\n",
              "       [0.2, 0.8],\n",
              "       [0.2, 0.8],\n",
              "       [1. , 0. ],\n",
              "       [0.8, 0.2],\n",
              "       [1. , 0. ],\n",
              "       [0.6, 0.4],\n",
              "       [0. , 1. ],\n",
              "       [1. , 0. ],\n",
              "       [0.4, 0.6],\n",
              "       [0.4, 0.6],\n",
              "       [0.4, 0.6],\n",
              "       [0.2, 0.8],\n",
              "       [0. , 1. ],\n",
              "       [0.6, 0.4],\n",
              "       [0.8, 0.2],\n",
              "       [0. , 1. ],\n",
              "       [1. , 0. ],\n",
              "       [0.2, 0.8],\n",
              "       [0.8, 0.2],\n",
              "       [1. , 0. ],\n",
              "       [1. , 0. ],\n",
              "       [0. , 1. ],\n",
              "       [0.8, 0.2],\n",
              "       [0.2, 0.8],\n",
              "       [0.4, 0.6],\n",
              "       [0.2, 0.8],\n",
              "       [0.6, 0.4],\n",
              "       [0. , 1. ],\n",
              "       [0. , 1. ],\n",
              "       [0.6, 0.4],\n",
              "       [0.2, 0.8],\n",
              "       [1. , 0. ],\n",
              "       [0. , 1. ],\n",
              "       [0. , 1. ],\n",
              "       [0.4, 0.6],\n",
              "       [0.8, 0.2],\n",
              "       [1. , 0. ],\n",
              "       [0.4, 0.6],\n",
              "       [1. , 0. ],\n",
              "       [0.8, 0.2],\n",
              "       [0.2, 0.8],\n",
              "       [0. , 1. ],\n",
              "       [0. , 1. ],\n",
              "       [1. , 0. ],\n",
              "       [1. , 0. ],\n",
              "       [0.4, 0.6],\n",
              "       [0. , 1. ],\n",
              "       [0. , 1. ],\n",
              "       [0. , 1. ],\n",
              "       [0.4, 0.6],\n",
              "       [0. , 1. ],\n",
              "       [0. , 1. ],\n",
              "       [0. , 1. ],\n",
              "       [0.2, 0.8],\n",
              "       [0. , 1. ]])"
            ]
          },
          "metadata": {},
          "execution_count": 246
        }
      ]
    },
    {
      "cell_type": "code",
      "source": [
        "accuracy_score(ytest,p)"
      ],
      "metadata": {
        "colab": {
          "base_uri": "https://localhost:8080/"
        },
        "id": "YNeGMQG5gBGN",
        "outputId": "5f684be2-f730-4498-c1e1-dc169ccdba4c"
      },
      "execution_count": 247,
      "outputs": [
        {
          "output_type": "execute_result",
          "data": {
            "text/plain": [
              "0.8533333333333334"
            ]
          },
          "metadata": {},
          "execution_count": 247
        }
      ]
    },
    {
      "cell_type": "code",
      "source": [
        "u=classification_report(ytest,p)\n",
        "print(u)"
      ],
      "metadata": {
        "colab": {
          "base_uri": "https://localhost:8080/"
        },
        "id": "gMOLqYVcgJOB",
        "outputId": "ca6cb2e0-023e-49fa-ca68-f7148888c1b4"
      },
      "execution_count": 248,
      "outputs": [
        {
          "output_type": "stream",
          "name": "stdout",
          "text": [
            "              precision    recall  f1-score   support\n",
            "\n",
            "           0       0.91      0.79      0.85       115\n",
            "           1       0.81      0.92      0.86       110\n",
            "\n",
            "    accuracy                           0.85       225\n",
            "   macro avg       0.86      0.85      0.85       225\n",
            "weighted avg       0.86      0.85      0.85       225\n",
            "\n"
          ]
        }
      ]
    },
    {
      "cell_type": "code",
      "source": [
        "\n",
        "y_proba=e.predict_proba(xtest)\n",
        "y_predicted=y_proba[:,1]"
      ],
      "metadata": {
        "id": "4dUhAVOqgh3-"
      },
      "execution_count": 249,
      "outputs": []
    },
    {
      "cell_type": "code",
      "source": [
        "fpr,tpr,thresholds=roc_curve(ytest,y_predicted)"
      ],
      "metadata": {
        "id": "_ZYTLpRggmlg"
      },
      "execution_count": 250,
      "outputs": []
    },
    {
      "cell_type": "code",
      "source": [
        "plt.figure()\n",
        "plt.plot(fpr,tpr,color='orange',label='ROC'%roc_auc)\n",
        "plt.plot([0,1],[0,1],color='blue',linestyle='--')\n",
        "plt.xlim([0.0,1.0])\n",
        "plt.ylim([0.0,1.0])\n",
        "plt.xlabel('False Positive Rate 1-(specificity)')\n",
        "plt.ylabel('True Positive Rate(sensitivity')"
      ],
      "metadata": {
        "colab": {
          "base_uri": "https://localhost:8080/",
          "height": 300
        },
        "id": "KK-Jp9rKgpTL",
        "outputId": "ba5a0f6f-e040-4235-ea81-13727965b948"
      },
      "execution_count": 251,
      "outputs": [
        {
          "output_type": "execute_result",
          "data": {
            "text/plain": [
              "Text(0, 0.5, 'True Positive Rate(sensitivity')"
            ]
          },
          "metadata": {},
          "execution_count": 251
        },
        {
          "output_type": "display_data",
          "data": {
            "text/plain": [
              "<Figure size 432x288 with 1 Axes>"
            ],
            "image/png": "[encoded data removed]"
          },
          "metadata": {
            "needs_background": "light"
          }
        }
      ]
    },
    {
      "cell_type": "markdown",
      "source": [
        "LOGISTIC REGRESSION\n"
      ],
      "metadata": {
        "id": "YO8YiJAjhqYv"
      }
    },
    {
      "cell_type": "code",
      "source": [
        "from sklearn.linear_model import LogisticRegression"
      ],
      "metadata": {
        "id": "IbIzgVWhgsdj"
      },
      "execution_count": 252,
      "outputs": []
    },
    {
      "cell_type": "code",
      "source": [
        "h=LogisticRegression()"
      ],
      "metadata": {
        "id": "VJo5UeWDg5mk"
      },
      "execution_count": 253,
      "outputs": []
    },
    {
      "cell_type": "code",
      "source": [
        "xtrain,xtest,ytrain,ytest=train_test_split(x,y,test_size=.25,random_state=0)"
      ],
      "metadata": {
        "id": "cpXv38H6hAsn"
      },
      "execution_count": 254,
      "outputs": []
    },
    {
      "cell_type": "code",
      "source": [
        "h.fit(xtrain,ytrain)"
      ],
      "metadata": {
        "colab": {
          "base_uri": "https://localhost:8080/"
        },
        "id": "Afutr7uwg8eA",
        "outputId": "59e2a5d8-2704-4e0b-d6ce-da5b185ae1e3"
      },
      "execution_count": 255,
      "outputs": [
        {
          "output_type": "execute_result",
          "data": {
            "text/plain": [
              "LogisticRegression()"
            ]
          },
          "metadata": {},
          "execution_count": 255
        }
      ]
    },
    {
      "cell_type": "code",
      "source": [
        "rr=h.predict(xtrain)\n",
        "r=h.predict(xtest)"
      ],
      "metadata": {
        "id": "3FkqSZsBhK0U"
      },
      "execution_count": 256,
      "outputs": []
    },
    {
      "cell_type": "code",
      "source": [
        "from sklearn.metrics import r2_score,mean_squared_error"
      ],
      "metadata": {
        "id": "j3M2Dlu1hR0J"
      },
      "execution_count": 257,
      "outputs": []
    },
    {
      "cell_type": "code",
      "source": [
        "r2_score(ytrain,rr)"
      ],
      "metadata": {
        "colab": {
          "base_uri": "https://localhost:8080/"
        },
        "id": "4Z2k8orKhaSf",
        "outputId": "50ef4d02-a1fe-4eec-9f4b-caf3ac3eccf1"
      },
      "execution_count": 258,
      "outputs": [
        {
          "output_type": "execute_result",
          "data": {
            "text/plain": [
              "0.40144863915715545"
            ]
          },
          "metadata": {},
          "execution_count": 258
        }
      ]
    },
    {
      "cell_type": "code",
      "source": [
        "r2_score(ytest,r)"
      ],
      "metadata": {
        "colab": {
          "base_uri": "https://localhost:8080/"
        },
        "id": "2o2tAimpheS2",
        "outputId": "ec5e2758-3440-4653-fdca-1964a6c98837"
      },
      "execution_count": 259,
      "outputs": [
        {
          "output_type": "execute_result",
          "data": {
            "text/plain": [
              "0.5375494071146245"
            ]
          },
          "metadata": {},
          "execution_count": 259
        }
      ]
    },
    {
      "cell_type": "code",
      "source": [
        "mean_squared_error(ytrain,rr)"
      ],
      "metadata": {
        "colab": {
          "base_uri": "https://localhost:8080/"
        },
        "id": "Dn16MHWPhgj0",
        "outputId": "3212437d-e12f-463e-93dd-70c49dcbfe77"
      },
      "execution_count": 260,
      "outputs": [
        {
          "output_type": "execute_result",
          "data": {
            "text/plain": [
              "0.14962962962962964"
            ]
          },
          "metadata": {},
          "execution_count": 260
        }
      ]
    },
    {
      "cell_type": "code",
      "source": [
        "mean_squared_error(ytest,r)"
      ],
      "metadata": {
        "colab": {
          "base_uri": "https://localhost:8080/"
        },
        "id": "idciEaoAhkL0",
        "outputId": "377ffd16-28af-4d2c-936b-2eb9d44178b5"
      },
      "execution_count": 261,
      "outputs": [
        {
          "output_type": "execute_result",
          "data": {
            "text/plain": [
              "0.11555555555555555"
            ]
          },
          "metadata": {},
          "execution_count": 261
        }
      ]
    },
    {
      "cell_type": "markdown",
      "source": [
        "SUPPORT VECTOR\n"
      ],
      "metadata": {
        "id": "XEQfxfpDiCi5"
      }
    },
    {
      "cell_type": "code",
      "source": [
        "from sklearn.svm import SVC"
      ],
      "metadata": {
        "id": "dSS5r6hfhm_c"
      },
      "execution_count": 262,
      "outputs": []
    },
    {
      "cell_type": "code",
      "source": [
        "k=SVC(probability=True)"
      ],
      "metadata": {
        "id": "AEA6UcYAiNpp"
      },
      "execution_count": 264,
      "outputs": []
    },
    {
      "cell_type": "code",
      "source": [
        "xtrain,xtest,ytrain,ytest=train_test_split(x,y,test_size=.20,random_state=0)"
      ],
      "metadata": {
        "id": "tWKgRQqjiR07"
      },
      "execution_count": 279,
      "outputs": []
    },
    {
      "cell_type": "code",
      "source": [
        "k.fit(xtrain,ytrain)"
      ],
      "metadata": {
        "colab": {
          "base_uri": "https://localhost:8080/"
        },
        "id": "NLBS-b38if5k",
        "outputId": "b851eb20-19ca-406a-dd96-7999f1d131e6"
      },
      "execution_count": 280,
      "outputs": [
        {
          "output_type": "execute_result",
          "data": {
            "text/plain": [
              "SVC(probability=True)"
            ]
          },
          "metadata": {},
          "execution_count": 280
        }
      ]
    },
    {
      "cell_type": "code",
      "source": [
        "i=k.predict(xtest)"
      ],
      "metadata": {
        "id": "JkjDwgN5ijzT"
      },
      "execution_count": 281,
      "outputs": []
    },
    {
      "cell_type": "code",
      "source": [
        "k.predict_proba(xtest)"
      ],
      "metadata": {
        "colab": {
          "base_uri": "https://localhost:8080/"
        },
        "id": "LdwKbFKXipf3",
        "outputId": "2a589eb0-3e7b-47cd-d760-fb3683ac366e"
      },
      "execution_count": 282,
      "outputs": [
        {
          "output_type": "execute_result",
          "data": {
            "text/plain": [
              "array([[0.85390212, 0.14609788],\n",
              "       [0.13045144, 0.86954856],\n",
              "       [0.90100311, 0.09899689],\n",
              "       [0.12842516, 0.87157484],\n",
              "       [0.89877796, 0.10122204],\n",
              "       [0.98067065, 0.01932935],\n",
              "       [0.81696229, 0.18303771],\n",
              "       [0.20229737, 0.79770263],\n",
              "       [0.18431136, 0.81568864],\n",
              "       [0.63292643, 0.36707357],\n",
              "       [0.99219614, 0.00780386],\n",
              "       [0.19703663, 0.80296337],\n",
              "       [0.17209552, 0.82790448],\n",
              "       [0.43244874, 0.56755126],\n",
              "       [0.9924355 , 0.0075645 ],\n",
              "       [0.31731608, 0.68268392],\n",
              "       [0.59623862, 0.40376138],\n",
              "       [0.9097789 , 0.0902211 ],\n",
              "       [0.20779384, 0.79220616],\n",
              "       [0.28008198, 0.71991802],\n",
              "       [0.29082417, 0.70917583],\n",
              "       [0.98781199, 0.01218801],\n",
              "       [0.98834079, 0.01165921],\n",
              "       [0.99066568, 0.00933432],\n",
              "       [0.22308193, 0.77691807],\n",
              "       [0.133183  , 0.866817  ],\n",
              "       [0.13299993, 0.86700007],\n",
              "       [0.70052037, 0.29947963],\n",
              "       [0.98210583, 0.01789417],\n",
              "       [0.74460554, 0.25539446],\n",
              "       [0.12565365, 0.87434635],\n",
              "       [0.99311268, 0.00688732],\n",
              "       [0.14298982, 0.85701018],\n",
              "       [0.66204546, 0.33795454],\n",
              "       [0.98974407, 0.01025593],\n",
              "       [0.91134205, 0.08865795],\n",
              "       [0.18339755, 0.81660245],\n",
              "       [0.1724659 , 0.8275341 ],\n",
              "       [0.98355408, 0.01644592],\n",
              "       [0.79159382, 0.20840618],\n",
              "       [0.12895367, 0.87104633],\n",
              "       [0.12784054, 0.87215946],\n",
              "       [0.14318974, 0.85681026],\n",
              "       [0.3525232 , 0.6474768 ],\n",
              "       [0.38825755, 0.61174245],\n",
              "       [0.98132704, 0.01867296],\n",
              "       [0.19786749, 0.80213251],\n",
              "       [0.12252907, 0.87747093],\n",
              "       [0.14729317, 0.85270683],\n",
              "       [0.9705833 , 0.0294167 ],\n",
              "       [0.23608178, 0.76391822],\n",
              "       [0.21415918, 0.78584082],\n",
              "       [0.19184292, 0.80815708],\n",
              "       [0.22696014, 0.77303986],\n",
              "       [0.9931113 , 0.0068887 ],\n",
              "       [0.12751073, 0.87248927],\n",
              "       [0.12632611, 0.87367389],\n",
              "       [0.99322732, 0.00677268],\n",
              "       [0.17884325, 0.82115675],\n",
              "       [0.16554507, 0.83445493],\n",
              "       [0.99203463, 0.00796537],\n",
              "       [0.28304594, 0.71695406],\n",
              "       [0.14333396, 0.85666604],\n",
              "       [0.91764611, 0.08235389],\n",
              "       [0.27226955, 0.72773045],\n",
              "       [0.29191943, 0.70808057],\n",
              "       [0.94619178, 0.05380822],\n",
              "       [0.94012696, 0.05987304],\n",
              "       [0.6230126 , 0.3769874 ],\n",
              "       [0.98724043, 0.01275957],\n",
              "       [0.86780803, 0.13219197],\n",
              "       [0.97014892, 0.02985108],\n",
              "       [0.12824304, 0.87175696],\n",
              "       [0.98779071, 0.01220929],\n",
              "       [0.44925727, 0.55074273],\n",
              "       [0.5       , 0.5       ],\n",
              "       [0.90141477, 0.09858523],\n",
              "       [0.12217485, 0.87782515],\n",
              "       [0.22748535, 0.77251465],\n",
              "       [0.12935517, 0.87064483],\n",
              "       [0.12405927, 0.87594073],\n",
              "       [0.98405225, 0.01594775],\n",
              "       [0.99238217, 0.00761783],\n",
              "       [0.12322088, 0.87677912],\n",
              "       [0.89966514, 0.10033486],\n",
              "       [0.96592766, 0.03407234],\n",
              "       [0.54765933, 0.45234067],\n",
              "       [0.96104874, 0.03895126],\n",
              "       [0.15196575, 0.84803425],\n",
              "       [0.16004181, 0.83995819],\n",
              "       [0.59608203, 0.40391797],\n",
              "       [0.2469974 , 0.7530026 ],\n",
              "       [0.77381366, 0.22618634],\n",
              "       [0.81144461, 0.18855539],\n",
              "       [0.3916956 , 0.6083044 ],\n",
              "       [0.91449148, 0.08550852],\n",
              "       [0.15729808, 0.84270192],\n",
              "       [0.92430293, 0.07569707],\n",
              "       [0.84188941, 0.15811059],\n",
              "       [0.12312893, 0.87687107],\n",
              "       [0.95778806, 0.04221194],\n",
              "       [0.18097248, 0.81902752],\n",
              "       [0.12372678, 0.87627322],\n",
              "       [0.86885273, 0.13114727],\n",
              "       [0.94217645, 0.05782355],\n",
              "       [0.64854836, 0.35145164],\n",
              "       [0.98993732, 0.01006268],\n",
              "       [0.38250299, 0.61749701],\n",
              "       [0.99311055, 0.00688945],\n",
              "       [0.99037039, 0.00962961],\n",
              "       [0.14130191, 0.85869809],\n",
              "       [0.12507321, 0.87492679],\n",
              "       [0.98870025, 0.01129975],\n",
              "       [0.14213762, 0.85786238],\n",
              "       [0.99216925, 0.00783075],\n",
              "       [0.61556772, 0.38443228],\n",
              "       [0.39329087, 0.60670913],\n",
              "       [0.89129994, 0.10870006],\n",
              "       [0.12458279, 0.87541721],\n",
              "       [0.16573428, 0.83426572],\n",
              "       [0.98916199, 0.01083801],\n",
              "       [0.99307351, 0.00692649],\n",
              "       [0.99205879, 0.00794121],\n",
              "       [0.55364352, 0.44635648],\n",
              "       [0.38212225, 0.61787775],\n",
              "       [0.15478567, 0.84521433],\n",
              "       [0.65824169, 0.34175831],\n",
              "       [0.12645545, 0.87354455],\n",
              "       [0.32762931, 0.67237069],\n",
              "       [0.16019997, 0.83980003],\n",
              "       [0.12399019, 0.87600981],\n",
              "       [0.15263418, 0.84736582],\n",
              "       [0.44810029, 0.55189971],\n",
              "       [0.89877854, 0.10122146],\n",
              "       [0.12713499, 0.87286501],\n",
              "       [0.86440962, 0.13559038],\n",
              "       [0.39240637, 0.60759363],\n",
              "       [0.21373613, 0.78626387],\n",
              "       [0.49263371, 0.50736629],\n",
              "       [0.99323274, 0.00676726],\n",
              "       [0.97624911, 0.02375089],\n",
              "       [0.32524352, 0.67475648],\n",
              "       [0.12265742, 0.87734258],\n",
              "       [0.92320853, 0.07679147],\n",
              "       [0.13108884, 0.86891116],\n",
              "       [0.13658888, 0.86341112],\n",
              "       [0.12133539, 0.87866461],\n",
              "       [0.75626867, 0.24373133],\n",
              "       [0.1280504 , 0.8719496 ],\n",
              "       [0.99318187, 0.00681813],\n",
              "       [0.14021262, 0.85978738],\n",
              "       [0.58943631, 0.41056369],\n",
              "       [0.16550433, 0.83449567],\n",
              "       [0.22021016, 0.77978984],\n",
              "       [0.13727422, 0.86272578],\n",
              "       [0.48966016, 0.51033984],\n",
              "       [0.12317264, 0.87682736],\n",
              "       [0.81009122, 0.18990878],\n",
              "       [0.14820107, 0.85179893],\n",
              "       [0.19276223, 0.80723777],\n",
              "       [0.12873073, 0.87126927],\n",
              "       [0.37600136, 0.62399864],\n",
              "       [0.12194574, 0.87805426],\n",
              "       [0.98710808, 0.01289192],\n",
              "       [0.98623536, 0.01376464],\n",
              "       [0.88865761, 0.11134239],\n",
              "       [0.35449864, 0.64550136],\n",
              "       [0.13529868, 0.86470132],\n",
              "       [0.89388196, 0.10611804],\n",
              "       [0.13156846, 0.86843154],\n",
              "       [0.12334068, 0.87665932],\n",
              "       [0.26266287, 0.73733713],\n",
              "       [0.38519022, 0.61480978],\n",
              "       [0.56800298, 0.43199702],\n",
              "       [0.9621075 , 0.0378925 ],\n",
              "       [0.45464656, 0.54535344],\n",
              "       [0.12255442, 0.87744558],\n",
              "       [0.99317286, 0.00682714],\n",
              "       [0.30176741, 0.69823259],\n",
              "       [0.21500456, 0.78499544]])"
            ]
          },
          "metadata": {},
          "execution_count": 282
        }
      ]
    },
    {
      "cell_type": "code",
      "source": [
        "accuracy_score(ytest,i)"
      ],
      "metadata": {
        "colab": {
          "base_uri": "https://localhost:8080/"
        },
        "id": "WDf71x-Uirjx",
        "outputId": "a73fdfde-28d8-438e-ee81-f06ba56a92d4"
      },
      "execution_count": 283,
      "outputs": [
        {
          "output_type": "execute_result",
          "data": {
            "text/plain": [
              "0.8277777777777777"
            ]
          },
          "metadata": {},
          "execution_count": 283
        }
      ]
    },
    {
      "cell_type": "code",
      "source": [
        "confusion_matrix(ytest,i)"
      ],
      "metadata": {
        "colab": {
          "base_uri": "https://localhost:8080/"
        },
        "id": "PbqwYrk8jKb2",
        "outputId": "840c4696-6bbb-46e7-f639-941b9f5133af"
      },
      "execution_count": 284,
      "outputs": [
        {
          "output_type": "execute_result",
          "data": {
            "text/plain": [
              "array([[73, 24],\n",
              "       [ 7, 76]])"
            ]
          },
          "metadata": {},
          "execution_count": 284
        }
      ]
    },
    {
      "cell_type": "code",
      "source": [
        "o=classification_report(ytest,i)\n",
        "print(o)"
      ],
      "metadata": {
        "colab": {
          "base_uri": "https://localhost:8080/"
        },
        "id": "oVgNHe8WjNAD",
        "outputId": "595553c7-5461-4167-f7e5-5b208814cf3f"
      },
      "execution_count": 285,
      "outputs": [
        {
          "output_type": "stream",
          "name": "stdout",
          "text": [
            "              precision    recall  f1-score   support\n",
            "\n",
            "           0       0.91      0.75      0.82        97\n",
            "           1       0.76      0.92      0.83        83\n",
            "\n",
            "    accuracy                           0.83       180\n",
            "   macro avg       0.84      0.83      0.83       180\n",
            "weighted avg       0.84      0.83      0.83       180\n",
            "\n"
          ]
        }
      ]
    },
    {
      "cell_type": "code",
      "source": [
        "y_proba=k.predict_proba(xtest)\n",
        "y_predicted=y_proba[:,1]"
      ],
      "metadata": {
        "id": "gBxaV4BGjeL3"
      },
      "execution_count": 290,
      "outputs": []
    },
    {
      "cell_type": "code",
      "source": [
        "fpr,tpr,thresholds=roc_curve(ytest,y_predicted)"
      ],
      "metadata": {
        "id": "_VjYzy2yjg0j"
      },
      "execution_count": 291,
      "outputs": []
    },
    {
      "cell_type": "code",
      "source": [
        "roc_auc=auc(fpr,tpr)"
      ],
      "metadata": {
        "id": "9cWiaoMljy0Y"
      },
      "execution_count": 292,
      "outputs": []
    },
    {
      "cell_type": "code",
      "source": [
        "print(roc_auc)"
      ],
      "metadata": {
        "colab": {
          "base_uri": "https://localhost:8080/"
        },
        "id": "OwTKsNksj3an",
        "outputId": "37f23e59-57d0-4635-bb66-4bb206e13ff3"
      },
      "execution_count": 293,
      "outputs": [
        {
          "output_type": "stream",
          "name": "stdout",
          "text": [
            "0.9228667246304807\n"
          ]
        }
      ]
    },
    {
      "cell_type": "code",
      "source": [
        "plt.figure()\n",
        "plt.plot(fpr,tpr,color='orange',label='ROC'%roc_auc)\n",
        "plt.plot([0,1],[0,1],color='blue',linestyle='--')\n",
        "plt.xlim([0.0,1.0])\n",
        "plt.ylim([0.0,1.0])\n",
        "plt.xlabel('False Positive Rate 1-(specificity)')\n",
        "plt.ylabel('True Positive Rate(sensitivity')"
      ],
      "metadata": {
        "colab": {
          "base_uri": "https://localhost:8080/",
          "height": 300
        },
        "id": "t_xKyBfmj5rb",
        "outputId": "f7924bf5-f339-4e66-a6e1-d694a399e7f0"
      },
      "execution_count": 296,
      "outputs": [
        {
          "output_type": "execute_result",
          "data": {
            "text/plain": [
              "Text(0, 0.5, 'True Positive Rate(sensitivity')"
            ]
          },
          "metadata": {},
          "execution_count": 296
        },
        {
          "output_type": "display_data",
          "data": {
            "text/plain": [
              "<Figure size 432x288 with 1 Axes>"
            ],
            "image/png": "[encoded data removed]"
          },
          "metadata": {
            "needs_background": "light"
          }
        }
      ]
    }
  ]
}